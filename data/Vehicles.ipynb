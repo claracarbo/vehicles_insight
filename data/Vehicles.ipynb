{
 "cells": [
  {
   "cell_type": "code",
   "execution_count": 2,
   "metadata": {},
   "outputs": [],
   "source": [
    "import pandas as pd"
   ]
  },
  {
   "cell_type": "code",
   "execution_count": 3,
   "metadata": {},
   "outputs": [],
   "source": [
    "vehicles = pd.read_csv(\"~/Desktop/Data/Pandas/vehicles.csv\")"
   ]
  },
  {
   "cell_type": "code",
   "execution_count": 6,
   "metadata": {},
   "outputs": [],
   "source": [
    "def shape(x):\n",
    "    print(\"The shape of the dataframe is\", x.shape)"
   ]
  },
  {
   "cell_type": "code",
   "execution_count": 7,
   "metadata": {},
   "outputs": [
    {
     "name": "stdout",
     "output_type": "stream",
     "text": [
      "The shape of the dataframe is (35952, 15)\n"
     ]
    }
   ],
   "source": [
    "shape(vehicles)"
   ]
  },
  {
   "cell_type": "code",
   "execution_count": 8,
   "metadata": {},
   "outputs": [],
   "source": [
    "def rows(x):\n",
    "    print(\"It has a total of\", len(x), \"rows\")"
   ]
  },
  {
   "cell_type": "code",
   "execution_count": 9,
   "metadata": {},
   "outputs": [
    {
     "name": "stdout",
     "output_type": "stream",
     "text": [
      "It has a total of 35952 rows\n"
     ]
    }
   ],
   "source": [
    "rows(vehicles)"
   ]
  },
  {
   "cell_type": "code",
   "execution_count": 10,
   "metadata": {},
   "outputs": [],
   "source": [
    "def columns(x):\n",
    "    print(\"It has a total of\", len(x.columns), \"columns\")"
   ]
  },
  {
   "cell_type": "code",
   "execution_count": 11,
   "metadata": {},
   "outputs": [
    {
     "name": "stdout",
     "output_type": "stream",
     "text": [
      "It has a total of 15 columns\n"
     ]
    }
   ],
   "source": [
    "columns(vehicles)"
   ]
  },
  {
   "cell_type": "code",
   "execution_count": 54,
   "metadata": {},
   "outputs": [],
   "source": [
    "def column_names(x):\n",
    "    print(\"Columns are:\",list(x.columns))"
   ]
  },
  {
   "cell_type": "code",
   "execution_count": 52,
   "metadata": {},
   "outputs": [
    {
     "name": "stdout",
     "output_type": "stream",
     "text": [
      "Columns are ['Make', 'Model', 'Year', 'Engine Displacement', 'Cylinders', 'Transmission', 'Drivetrain', 'Vehicle Class', 'Fuel Type', 'Fuel Barrels/Year', 'City MPG', 'Highway MPG', 'Combined MPG', 'CO2 Emission Grams/Mile', 'Fuel Cost/Year']\n"
     ]
    }
   ],
   "source": [
    "column_names(vehicles)"
   ]
  },
  {
   "cell_type": "code",
   "execution_count": 91,
   "metadata": {},
   "outputs": [],
   "source": [
    "def min_value(x):\n",
    "    print(x.min(axis=None, skipna=None, level=None, numeric_only=True))"
   ]
  },
  {
   "cell_type": "code",
   "execution_count": 92,
   "metadata": {},
   "outputs": [
    {
     "name": "stdout",
     "output_type": "stream",
     "text": [
      "Year                       1984.00\n",
      "Engine Displacement           0.60\n",
      "Cylinders                     2.00\n",
      "Fuel Barrels/Year             0.06\n",
      "City MPG                      6.00\n",
      "Highway MPG                   9.00\n",
      "Combined MPG                  7.00\n",
      "CO2 Emission Grams/Mile      37.00\n",
      "Fuel Cost/Year              600.00\n",
      "dtype: float64\n"
     ]
    }
   ],
   "source": [
    "min_value(vehicles)"
   ]
  },
  {
   "cell_type": "code",
   "execution_count": 90,
   "metadata": {},
   "outputs": [],
   "source": [
    "def max_value(x):\n",
    "    print(x.max(axis=None, skipna=None, level=None, numeric_only=True))"
   ]
  },
  {
   "cell_type": "code",
   "execution_count": 93,
   "metadata": {},
   "outputs": [
    {
     "name": "stdout",
     "output_type": "stream",
     "text": [
      "Year                       2017.000000\n",
      "Engine Displacement           8.400000\n",
      "Cylinders                    16.000000\n",
      "Fuel Barrels/Year            47.087143\n",
      "City MPG                     58.000000\n",
      "Highway MPG                  61.000000\n",
      "Combined MPG                 56.000000\n",
      "CO2 Emission Grams/Mile    1269.571429\n",
      "Fuel Cost/Year             5800.000000\n",
      "dtype: float64\n"
     ]
    }
   ],
   "source": [
    "max_value(vehicles)"
   ]
  },
  {
   "cell_type": "code",
   "execution_count": null,
   "metadata": {},
   "outputs": [],
   "source": []
  }
 ],
 "metadata": {
  "kernelspec": {
   "display_name": "Python 3",
   "language": "python",
   "name": "python3"
  },
  "language_info": {
   "codemirror_mode": {
    "name": "ipython",
    "version": 3
   },
   "file_extension": ".py",
   "mimetype": "text/x-python",
   "name": "python",
   "nbconvert_exporter": "python",
   "pygments_lexer": "ipython3",
   "version": "3.8.5"
  }
 },
 "nbformat": 4,
 "nbformat_minor": 4
}
